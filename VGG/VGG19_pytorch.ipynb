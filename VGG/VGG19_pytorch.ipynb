{
  "nbformat": 4,
  "nbformat_minor": 0,
  "metadata": {
    "colab": {
      "name": "AlexNet_pytorch.ipynb",
      "provenance": []
    },
    "kernelspec": {
      "name": "python3",
      "display_name": "Python 3"
    }
  },
  "cells": [
    {
      "cell_type": "code",
      "metadata": {
        "id": "oLSoKkBb-PMM",
        "colab_type": "code",
        "colab": {}
      },
      "source": [
        "import torch\n",
        "import torch.nn as nn"
      ],
      "execution_count": 0,
      "outputs": []
    },
    {
      "cell_type": "code",
      "metadata": {
        "id": "vocoOQ8j9p3B",
        "colab_type": "code",
        "colab": {}
      },
      "source": [
        "class VGG19(nn.Module):\n",
        "  def __init__(self, num_classes = 1000):\n",
        "    super(VGG19, self).__init__()\n",
        "    self.features = nn.Sequential(\n",
        "        nn.Conv2d(3, 64, kernel_size = 3, stride = 1, padding = 1),\n",
        "        nn.ReLU(inplace = True),\n",
        "        nn.Conv2d(64, 64, kernel_size = 3, stride = 1, padding = 1),\n",
        "        nn.ReLU(inplace = True),\n",
        "        nn.MaxPool2d(kernel_size = 2, stride = 2),\n",
        "        \n",
        "        nn.Conv2d(64, 128, kernel_size = 3, stride = 1, padding = 1),\n",
        "        nn.ReLU(inplace = True),\n",
        "        nn.Conv2d(128, 128, kernel_size = 3, stride = 1, padding = 1),\n",
        "        nn.ReLU(inplace = True),\n",
        "        nn.MaxPool2d(kernel_size = 2, stride = 2),\n",
        "        \n",
        "        nn.Conv2d(128, 256, kernel_size = 3, stride = 1, padding = 1),\n",
        "        nn.ReLU(inplace = True),\n",
        "        nn.Conv2d(256, 256, kernel_size = 3, stride = 1, padding = 1),\n",
        "        nn.ReLU(inplace = True),\n",
        "        nn.Conv2d(256, 256, kernel_size = 3, stride = 1, padding = 1),\n",
        "        nn.ReLU(inplace = True),\n",
        "        nn.Conv2d(256, 256, kernel_size = 3, stride = 1, padding = 1),\n",
        "        nn.ReLU(inplace = True),\n",
        "        nn.MaxPool2d(kernel_size = 2, stride = 2),\n",
        "        \n",
        "        nn.Conv2d(256, 512, kernel_size = 3, stride = 1, padding = 1),\n",
        "        nn.ReLU(inplace = True),\n",
        "        nn.Conv2d(512, 512, kernel_size = 3, stride = 1, padding = 1),\n",
        "        nn.ReLU(inplace = True),\n",
        "        nn.Conv2d(512, 512, kernel_size = 3, stride = 1, padding = 1),\n",
        "        nn.ReLU(inplace = True),\n",
        "        nn.Conv2d(512, 512, kernel_size = 3, stride = 1, padding = 1),\n",
        "        nn.ReLU(inplace = True),\n",
        "        nn.MaxPool2d(kernel_size = 2, stride = 2),\n",
        "        \n",
        "        nn.Conv2d(512, 512, kernel_size = 3, stride = 1, padding = 1),\n",
        "        nn.ReLU(inplace = True),\n",
        "        nn.Conv2d(512, 512, kernel_size = 3, stride = 1, padding = 1),\n",
        "        nn.ReLU(inplace = True),\n",
        "        nn.Conv2d(512, 512, kernel_size = 3, stride = 1, padding = 1),\n",
        "        nn.ReLU(inplace = True),\n",
        "        nn.Conv2d(512, 512, kernel_size = 3, stride = 1, padding = 1),\n",
        "        nn.ReLU(inplace = True),\n",
        "        nn.MaxPool2d(kernel_size = 2, stride = 2),\n",
        "        )\n",
        "    self.classifier = nn.Sequential(\n",
        "        nn.Linear(512 * 7 * 7, 4096),\n",
        "        nn.ReLU(inplace = True),\n",
        "        nn.Dropout(p=0.5),\n",
        "\n",
        "        nn.Linear(4096, 4096),\n",
        "        nn.ReLU(inplace = True),\n",
        "        nn.Dropout(p=0.5),\n",
        "        nn.Linear(4096, num_classes))\n",
        "    \n",
        "  def forward(self, x):\n",
        "    x = self.features(x)\n",
        "    x = x.view(x.size(0), 512 * 7 * 7)\n",
        "    x = self.classifier(x)\n",
        "    return x"
      ],
      "execution_count": 0,
      "outputs": []
    },
    {
      "cell_type": "code",
      "metadata": {
        "id": "fHF_iAZm97XX",
        "colab_type": "code",
        "outputId": "33d6ede6-4190-4e44-ced8-34805a7be046",
        "colab": {
          "base_uri": "https://localhost:8080/",
          "height": 867
        }
      },
      "source": [
        "def vgg(**kwargs):\n",
        "  model = VGG19(**kwargs)\n",
        "  return model\n",
        "\n",
        "vgg(num_classes = 1000)"
      ],
      "execution_count": 3,
      "outputs": [
        {
          "output_type": "execute_result",
          "data": {
            "text/plain": [
              "VGG19(\n",
              "  (features): Sequential(\n",
              "    (0): Conv2d(3, 64, kernel_size=(3, 3), stride=(1, 1), padding=(1, 1))\n",
              "    (1): ReLU(inplace=True)\n",
              "    (2): Conv2d(64, 64, kernel_size=(3, 3), stride=(1, 1), padding=(1, 1))\n",
              "    (3): ReLU(inplace=True)\n",
              "    (4): MaxPool2d(kernel_size=2, stride=2, padding=0, dilation=1, ceil_mode=False)\n",
              "    (5): Conv2d(64, 128, kernel_size=(3, 3), stride=(1, 1), padding=(1, 1))\n",
              "    (6): ReLU(inplace=True)\n",
              "    (7): Conv2d(128, 128, kernel_size=(3, 3), stride=(1, 1), padding=(1, 1))\n",
              "    (8): ReLU(inplace=True)\n",
              "    (9): MaxPool2d(kernel_size=2, stride=2, padding=0, dilation=1, ceil_mode=False)\n",
              "    (10): Conv2d(128, 256, kernel_size=(3, 3), stride=(1, 1), padding=(1, 1))\n",
              "    (11): ReLU(inplace=True)\n",
              "    (12): Conv2d(256, 256, kernel_size=(3, 3), stride=(1, 1), padding=(1, 1))\n",
              "    (13): ReLU(inplace=True)\n",
              "    (14): Conv2d(256, 256, kernel_size=(3, 3), stride=(1, 1), padding=(1, 1))\n",
              "    (15): ReLU(inplace=True)\n",
              "    (16): Conv2d(256, 256, kernel_size=(3, 3), stride=(1, 1), padding=(1, 1))\n",
              "    (17): ReLU(inplace=True)\n",
              "    (18): MaxPool2d(kernel_size=2, stride=2, padding=0, dilation=1, ceil_mode=False)\n",
              "    (19): Conv2d(256, 512, kernel_size=(3, 3), stride=(1, 1), padding=(1, 1))\n",
              "    (20): ReLU(inplace=True)\n",
              "    (21): Conv2d(512, 512, kernel_size=(3, 3), stride=(1, 1), padding=(1, 1))\n",
              "    (22): ReLU(inplace=True)\n",
              "    (23): Conv2d(512, 512, kernel_size=(3, 3), stride=(1, 1), padding=(1, 1))\n",
              "    (24): ReLU(inplace=True)\n",
              "    (25): Conv2d(512, 512, kernel_size=(3, 3), stride=(1, 1), padding=(1, 1))\n",
              "    (26): ReLU(inplace=True)\n",
              "    (27): MaxPool2d(kernel_size=2, stride=2, padding=0, dilation=1, ceil_mode=False)\n",
              "    (28): Conv2d(512, 512, kernel_size=(3, 3), stride=(1, 1), padding=(1, 1))\n",
              "    (29): ReLU(inplace=True)\n",
              "    (30): Conv2d(512, 512, kernel_size=(3, 3), stride=(1, 1), padding=(1, 1))\n",
              "    (31): ReLU(inplace=True)\n",
              "    (32): Conv2d(512, 512, kernel_size=(3, 3), stride=(1, 1), padding=(1, 1))\n",
              "    (33): ReLU(inplace=True)\n",
              "    (34): Conv2d(512, 512, kernel_size=(3, 3), stride=(1, 1), padding=(1, 1))\n",
              "    (35): ReLU(inplace=True)\n",
              "    (36): MaxPool2d(kernel_size=2, stride=2, padding=0, dilation=1, ceil_mode=False)\n",
              "  )\n",
              "  (classifier): Sequential(\n",
              "    (0): Linear(in_features=25088, out_features=4096, bias=True)\n",
              "    (1): ReLU(inplace=True)\n",
              "    (2): Dropout(p=0.5, inplace=False)\n",
              "    (3): Linear(in_features=4096, out_features=4096, bias=True)\n",
              "    (4): ReLU(inplace=True)\n",
              "    (5): Dropout(p=0.5, inplace=False)\n",
              "    (6): Linear(in_features=4096, out_features=1000, bias=True)\n",
              "  )\n",
              ")"
            ]
          },
          "metadata": {
            "tags": []
          },
          "execution_count": 3
        }
      ]
    }
  ]
}