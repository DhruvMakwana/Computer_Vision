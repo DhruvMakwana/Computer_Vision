{
  "nbformat": 4,
  "nbformat_minor": 0,
  "metadata": {
    "colab": {
      "name": "AlexNet_pytorch.ipynb",
      "provenance": []
    },
    "kernelspec": {
      "name": "python3",
      "display_name": "Python 3"
    }
  },
  "cells": [
    {
      "cell_type": "code",
      "metadata": {
        "id": "oLSoKkBb-PMM",
        "colab_type": "code",
        "colab": {}
      },
      "source": [
        "import torch\n",
        "import torch.nn as nn"
      ],
      "execution_count": 0,
      "outputs": []
    },
    {
      "cell_type": "code",
      "metadata": {
        "id": "6ViSJCd69bdH",
        "colab_type": "code",
        "colab": {}
      },
      "source": [
        "class LRN(nn.Module):\n",
        "  def __init__(self, local_size = 1, alpha = 1.0, beta = 0.75, ACROSS_CHANNELS = True):\n",
        "    super(LRN, self).__init__()\n",
        "    self.ACROSS_CHANNELS = ACROSS_CHANNELS\n",
        "    if ACROSS_CHANNELS:\n",
        "      self.average = nn.AvgPool3d(kernel_size = (local_size, 1, 1), stride = 1, padding = (int((local_size - 1.0) / 2), 0, 0))\n",
        "    \n",
        "    else:\n",
        "      self.average = nn.AvgPool2d(kernel_size = local_size, stride = 1, padding = int((local_size - 1.0) / 2))\n",
        "    \n",
        "    self.alpha = alpha\n",
        "    self.beta = beta\n",
        "  \n",
        "  def forward(self, x):\n",
        "    if self.ACROSS_CHANNELS:\n",
        "      div = x.pow(2).unsqueeze(1)\n",
        "      div = self.average(div).squeeze(1)\n",
        "      div = div.mul(self.alpha).add(1.0).pow(self.beta)\n",
        "    \n",
        "    else:\n",
        "      div = x.pow(2)\n",
        "      div = self.average(div)\n",
        "      div = div.mul(self.alpha).add(1.0).pow(self.beta)\n",
        "    \n",
        "    x = x.div(div)\n",
        "    return x"
      ],
      "execution_count": 0,
      "outputs": []
    },
    {
      "cell_type": "code",
      "metadata": {
        "id": "vocoOQ8j9p3B",
        "colab_type": "code",
        "colab": {}
      },
      "source": [
        "class AlexNet(nn.Module):\n",
        "  def __init__(self, num_classes = 1000):\n",
        "    super(AlexNet, self).__init__()\n",
        "    self.features = nn.Sequential(\n",
        "        nn.Conv2d(3, 96, kernel_size = 11, stride = 4, padding = 0),\n",
        "        nn.ReLU(inplace = True),\n",
        "        nn.MaxPool2d(kernel_size = 3, stride = 2),\n",
        "        LRN(local_size = 5, alpha = 0.0001, beta = 0.75),\n",
        "\n",
        "        nn.Conv2d(96, 256, kernel_size = 5, stride = 1, padding = 2),\n",
        "        nn.ReLU(inplace = True),\n",
        "        nn.MaxPool2d(kernel_size = 3, stride = 2),\n",
        "        LRN(local_size = 5, alpha = 0.0001, beta = 0.75),\n",
        "        \n",
        "        nn.Conv2d(256, 384, kernel_size = 3, stride = 1, padding = 1),\n",
        "        nn.ReLU(inplace = True),\n",
        "        \n",
        "        nn.Conv2d(384, 384, kernel_size = 3, stride = 1, padding = 1),\n",
        "        nn.ReLU(inplace = True),\n",
        "        \n",
        "        nn.Conv2d(384, 256, kernel_size = 3, stride = 1, padding = 1),\n",
        "        nn.ReLU(inplace = True),\n",
        "        nn.MaxPool2d(kernel_size = 3, stride = 2),\n",
        "        nn.Dropout(p=0.5),\n",
        "        )\n",
        "    self.classifier = nn.Sequential(\n",
        "        nn.Linear(256 * 6 * 6, 4096),\n",
        "        nn.ReLU(inplace = True),\n",
        "        nn.Dropout(p=0.5),\n",
        "\n",
        "        nn.Linear(4096, 4096),\n",
        "        nn.ReLU(inplace = True),\n",
        "        nn.Linear(4096, num_classes))\n",
        "    \n",
        "  def forward(self, x):\n",
        "    x = self.features(x)\n",
        "    x = x.view(x.size(0), 256 * 6 * 6)\n",
        "    x = self.classifier(x)\n",
        "    return x"
      ],
      "execution_count": 0,
      "outputs": []
    },
    {
      "cell_type": "code",
      "metadata": {
        "id": "fHF_iAZm97XX",
        "colab_type": "code",
        "outputId": "d5807be5-50db-4d36-edd2-71fd02f968ab",
        "colab": {
          "base_uri": "https://localhost:8080/",
          "height": 561
        }
      },
      "source": [
        "def alexnet(**kwargs):\n",
        "  model = AlexNet(**kwargs)\n",
        "  return model\n",
        "\n",
        "alexnet(num_classes = 1000)"
      ],
      "execution_count": 4,
      "outputs": [
        {
          "output_type": "execute_result",
          "data": {
            "text/plain": [
              "AlexNet(\n",
              "  (features): Sequential(\n",
              "    (0): Conv2d(3, 96, kernel_size=(11, 11), stride=(4, 4))\n",
              "    (1): ReLU(inplace=True)\n",
              "    (2): MaxPool2d(kernel_size=3, stride=2, padding=0, dilation=1, ceil_mode=False)\n",
              "    (3): LRN(\n",
              "      (average): AvgPool3d(kernel_size=(5, 1, 1), stride=1, padding=(2, 0, 0))\n",
              "    )\n",
              "    (4): Conv2d(96, 256, kernel_size=(5, 5), stride=(1, 1), padding=(2, 2))\n",
              "    (5): ReLU(inplace=True)\n",
              "    (6): MaxPool2d(kernel_size=3, stride=2, padding=0, dilation=1, ceil_mode=False)\n",
              "    (7): LRN(\n",
              "      (average): AvgPool3d(kernel_size=(5, 1, 1), stride=1, padding=(2, 0, 0))\n",
              "    )\n",
              "    (8): Conv2d(256, 384, kernel_size=(3, 3), stride=(1, 1), padding=(1, 1))\n",
              "    (9): ReLU(inplace=True)\n",
              "    (10): Conv2d(384, 384, kernel_size=(3, 3), stride=(1, 1), padding=(1, 1))\n",
              "    (11): ReLU(inplace=True)\n",
              "    (12): Conv2d(384, 256, kernel_size=(3, 3), stride=(1, 1), padding=(1, 1))\n",
              "    (13): ReLU(inplace=True)\n",
              "    (14): MaxPool2d(kernel_size=3, stride=2, padding=0, dilation=1, ceil_mode=False)\n",
              "    (15): Dropout(p=0.5, inplace=False)\n",
              "  )\n",
              "  (classifier): Sequential(\n",
              "    (0): Linear(in_features=9216, out_features=4096, bias=True)\n",
              "    (1): ReLU(inplace=True)\n",
              "    (2): Dropout(p=0.5, inplace=False)\n",
              "    (3): Linear(in_features=4096, out_features=4096, bias=True)\n",
              "    (4): ReLU(inplace=True)\n",
              "    (5): Linear(in_features=4096, out_features=1000, bias=True)\n",
              "  )\n",
              ")"
            ]
          },
          "metadata": {
            "tags": []
          },
          "execution_count": 4
        }
      ]
    }
  ]
}